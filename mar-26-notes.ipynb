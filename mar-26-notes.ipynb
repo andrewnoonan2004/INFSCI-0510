{
 "cells": [
  {
   "cell_type": "markdown",
   "metadata": {},
   "source": [
    "# March 26 Notes\n"
   ]
  },
  {
   "cell_type": "markdown",
   "metadata": {},
   "source": [
    "### Categorical Data/Labeling Data\n",
    "- dog\n",
    "- cat \n",
    "- bird\n",
    "- rodent\n",
    "if, for example, we do dog=1, cat=2, bird=3, rodent=4, we have to discard many algorithms that look at numerical values. For linear regression for example, we need to do matrices\n",
    "dog = 1 0 0 0\n",
    "cat = 0 1 0 0\n",
    "bird = 0 0 1 0\n",
    "rodent = 0 0 0 1\n",
    "dummy/ 1-hot encoding\n",
    "Some algorithms just look at probability\n",
    "100 records, with ten being dogs, it doesn't care about dog=1, but p(1) = 0.10, or probability(dog|heavy)\n",
    "### Label encoding\n",
    "\n",
    "\n"
   ]
  },
  {
   "cell_type": "markdown",
   "metadata": {},
   "source": [
    "**Check 02-NaiveBayesLabel code example**\n"
   ]
  },
  {
   "cell_type": "markdown",
   "metadata": {},
   "source": []
  }
 ],
 "metadata": {
  "kernelspec": {
   "display_name": "Python 3",
   "language": "python",
   "name": "python3"
  },
  "language_info": {
   "name": "python",
   "version": "3.13.2"
  }
 },
 "nbformat": 4,
 "nbformat_minor": 2
}
