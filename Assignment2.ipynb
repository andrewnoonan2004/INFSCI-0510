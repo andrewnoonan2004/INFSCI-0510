{
 "cells": [
  {
   "cell_type": "markdown",
   "metadata": {},
   "source": [
    "# Assignment 2"
   ]
  },
  {
   "cell_type": "code",
   "execution_count": 1,
   "metadata": {},
   "outputs": [],
   "source": [
    "## Importing necessary libraries\n",
    "import pandas as pd\n",
    "import matplotlib.pyplot as plt\n",
    "import seaborn as sb\n",
    "%matplotlib inline"
   ]
  },
  {
   "cell_type": "markdown",
   "metadata": {},
   "source": [
    "## Step 1: Visualizing the Data"
   ]
  },
  {
   "cell_type": "markdown",
   "metadata": {},
   "source": [
    "First I import the data and display it"
   ]
  },
  {
   "cell_type": "code",
   "execution_count": 2,
   "metadata": {},
   "outputs": [
    {
     "data": {
      "text/html": [
       "<div>\n",
       "<style scoped>\n",
       "    .dataframe tbody tr th:only-of-type {\n",
       "        vertical-align: middle;\n",
       "    }\n",
       "\n",
       "    .dataframe tbody tr th {\n",
       "        vertical-align: top;\n",
       "    }\n",
       "\n",
       "    .dataframe thead th {\n",
       "        text-align: right;\n",
       "    }\n",
       "</style>\n",
       "<table border=\"1\" class=\"dataframe\">\n",
       "  <thead>\n",
       "    <tr style=\"text-align: right;\">\n",
       "      <th></th>\n",
       "      <th>Company</th>\n",
       "      <th>Company Score</th>\n",
       "      <th>Job Title</th>\n",
       "      <th>Location</th>\n",
       "      <th>Date</th>\n",
       "      <th>Salary</th>\n",
       "    </tr>\n",
       "  </thead>\n",
       "  <tbody>\n",
       "    <tr>\n",
       "      <th>0</th>\n",
       "      <td>ViewSoft</td>\n",
       "      <td>4.8</td>\n",
       "      <td>Software Engineer</td>\n",
       "      <td>Manassas, VA</td>\n",
       "      <td>8d</td>\n",
       "      <td>$68K - $94K (Glassdoor est.)</td>\n",
       "    </tr>\n",
       "    <tr>\n",
       "      <th>1</th>\n",
       "      <td>Workiva</td>\n",
       "      <td>4.3</td>\n",
       "      <td>Software Support Engineer</td>\n",
       "      <td>Remote</td>\n",
       "      <td>2d</td>\n",
       "      <td>$61K - $104K (Employer est.)</td>\n",
       "    </tr>\n",
       "    <tr>\n",
       "      <th>2</th>\n",
       "      <td>Garmin International, Inc.</td>\n",
       "      <td>3.9</td>\n",
       "      <td>C# Software Engineer</td>\n",
       "      <td>Cary, NC</td>\n",
       "      <td>2d</td>\n",
       "      <td>$95K - $118K (Glassdoor est.)</td>\n",
       "    </tr>\n",
       "    <tr>\n",
       "      <th>3</th>\n",
       "      <td>Snapchat</td>\n",
       "      <td>3.5</td>\n",
       "      <td>Software Engineer, Fullstack, 1+ Years of Expe...</td>\n",
       "      <td>Los Angeles, CA</td>\n",
       "      <td>2d</td>\n",
       "      <td>$97K - $145K (Employer est.)</td>\n",
       "    </tr>\n",
       "    <tr>\n",
       "      <th>4</th>\n",
       "      <td>Vitesco Technologies Group AG</td>\n",
       "      <td>3.1</td>\n",
       "      <td>Software Engineer</td>\n",
       "      <td>Seguin, TX</td>\n",
       "      <td>2d</td>\n",
       "      <td>$85K - $108K (Glassdoor est.)</td>\n",
       "    </tr>\n",
       "  </tbody>\n",
       "</table>\n",
       "</div>"
      ],
      "text/plain": [
       "                         Company  Company Score  \\\n",
       "0                       ViewSoft            4.8   \n",
       "1                        Workiva            4.3   \n",
       "2     Garmin International, Inc.            3.9   \n",
       "3                       Snapchat            3.5   \n",
       "4  Vitesco Technologies Group AG            3.1   \n",
       "\n",
       "                                           Job Title         Location Date  \\\n",
       "0                                  Software Engineer     Manassas, VA   8d   \n",
       "1                          Software Support Engineer           Remote   2d   \n",
       "2                               C# Software Engineer         Cary, NC   2d   \n",
       "3  Software Engineer, Fullstack, 1+ Years of Expe...  Los Angeles, CA   2d   \n",
       "4                                  Software Engineer       Seguin, TX   2d   \n",
       "\n",
       "                          Salary  \n",
       "0   $68K - $94K (Glassdoor est.)  \n",
       "1   $61K - $104K (Employer est.)  \n",
       "2  $95K - $118K (Glassdoor est.)  \n",
       "3   $97K - $145K (Employer est.)  \n",
       "4  $85K - $108K (Glassdoor est.)  "
      ]
     },
     "execution_count": 2,
     "metadata": {},
     "output_type": "execute_result"
    }
   ],
   "source": [
    "df = pd.read_csv('Software-Engineer-Salaries.csv')\n",
    "df.head()"
   ]
  },
  {
   "cell_type": "markdown",
   "metadata": {},
   "source": [
    "*Then I output the datatypes of each column should I need to know it later on*"
   ]
  },
  {
   "cell_type": "code",
   "execution_count": 3,
   "metadata": {},
   "outputs": [
    {
     "data": {
      "text/plain": [
       "Company           object\n",
       "Company Score    float64\n",
       "Job Title         object\n",
       "Location          object\n",
       "Date              object\n",
       "Salary            object\n",
       "dtype: object"
      ]
     },
     "execution_count": 3,
     "metadata": {},
     "output_type": "execute_result"
    }
   ],
   "source": [
    "df.dtypes"
   ]
  },
  {
   "cell_type": "markdown",
   "metadata": {},
   "source": [
    "### Creating a histogram of company scores\n"
   ]
  },
  {
   "cell_type": "code",
   "execution_count": 4,
   "metadata": {},
   "outputs": [
    {
     "data": {
      "text/plain": [
       "<Axes: xlabel='Company Score', ylabel='Count'>"
      ]
     },
     "execution_count": 4,
     "metadata": {},
     "output_type": "execute_result"
    },
    {
     "data": {
      "image/png": "[encoded data removed]",
      "text/plain": [
       "<Figure size 640x480 with 1 Axes>"
      ]
     },
     "metadata": {},
     "output_type": "display_data"
    }
   ],
   "source": [
    "sb.histplot(data=df, x='Company Score', kde=True)"
   ]
  },
  {
   "cell_type": "markdown",
   "metadata": {},
   "source": [
    "From this I observed that the majority of company scores in the dataset are between 3.5 and 4.5 stars, with an overall left skew"
   ]
  },
  {
   "cell_type": "markdown",
   "metadata": {},
   "source": [
    "### Creating a boxplot to observe outliers in the dataset"
   ]
  },
  {
   "cell_type": "code",
   "execution_count": 5,
   "metadata": {},
   "outputs": [
    {
     "data": {
      "text/plain": [
       "<Axes: xlabel='Company Score'>"
      ]
     },
     "execution_count": 5,
     "metadata": {},
     "output_type": "execute_result"
    },
    {
     "data": {
      "image/png": "[encoded data removed]",
      "text/plain": [
       "<Figure size 640x480 with 1 Axes>"
      ]
     },
     "metadata": {},
     "output_type": "display_data"
    }
   ],
   "source": [
    "sb.boxplot(data=df, x='Company Score')"
   ]
  },
  {
   "cell_type": "markdown",
   "metadata": {},
   "source": [
    "From this I can see that there are about five outliers in the dataset, with 1 being a rather extreme outlier"
   ]
  },
  {
   "cell_type": "markdown",
   "metadata": {},
   "source": [
    "### Observing if location of the job listing had an impact on the company score"
   ]
  },
  {
   "cell_type": "code",
   "execution_count": 6,
   "metadata": {},
   "outputs": [
    {
     "data": {
      "text/plain": [
       "<Axes: xlabel='Location', ylabel='Company Score'>"
      ]
     },
     "execution_count": 6,
     "metadata": {},
     "output_type": "execute_result"
    },
    {
     "data": {
      "image/png": "[encoded data removed]",
      "text/plain": [
       "<Figure size 640x480 with 1 Axes>"
      ]
     },
     "metadata": {},
     "output_type": "display_data"
    }
   ],
   "source": [
    "plt.xticks(rotation=90)\n",
    "sb.scatterplot(data=df.head(50), x='Location', y='Company Score')"
   ]
  },
  {
   "cell_type": "markdown",
   "metadata": {},
   "source": [
    "The scatterplot makes it appear that the location has little affect on the score the company recieved"
   ]
  },
  {
   "cell_type": "markdown",
   "metadata": {},
   "source": [
    "## Step 2: Data cleaning\n"
   ]
  },
  {
   "cell_type": "markdown",
   "metadata": {},
   "source": [
    "### Identifying missing values"
   ]
  },
  {
   "cell_type": "code",
   "execution_count": 7,
   "metadata": {},
   "outputs": [
    {
     "data": {
      "text/plain": [
       "<Axes: >"
      ]
     },
     "execution_count": 7,
     "metadata": {},
     "output_type": "execute_result"
    },
    {
     "data": {
      "image/png": "[encoded data removed]",
      "text/plain": [
       "<Figure size 640x480 with 2 Axes>"
      ]
     },
     "metadata": {},
     "output_type": "display_data"
    }
   ],
   "source": [
    "sb.heatmap(data=df.isnull())"
   ]
  },
  {
   "cell_type": "markdown",
   "metadata": {},
   "source": [
    "**This shows that salary and company score have the most missing values**"
   ]
  },
  {
   "cell_type": "code",
   "execution_count": 8,
   "metadata": {},
   "outputs": [
    {
     "data": {
      "text/plain": [
       "Company            2\n",
       "Company Score     81\n",
       "Job Title          0\n",
       "Location          13\n",
       "Date               0\n",
       "Salary           106\n",
       "dtype: int64"
      ]
     },
     "execution_count": 8,
     "metadata": {},
     "output_type": "execute_result"
    }
   ],
   "source": [
    "df.isnull().sum()"
   ]
  },
  {
   "cell_type": "code",
   "execution_count": 9,
   "metadata": {},
   "outputs": [
    {
     "data": {
      "text/html": [
       "<div>\n",
       "<style scoped>\n",
       "    .dataframe tbody tr th:only-of-type {\n",
       "        vertical-align: middle;\n",
       "    }\n",
       "\n",
       "    .dataframe tbody tr th {\n",
       "        vertical-align: top;\n",
       "    }\n",
       "\n",
       "    .dataframe thead th {\n",
       "        text-align: right;\n",
       "    }\n",
       "</style>\n",
       "<table border=\"1\" class=\"dataframe\">\n",
       "  <thead>\n",
       "    <tr style=\"text-align: right;\">\n",
       "      <th></th>\n",
       "      <th>Column_Name</th>\n",
       "      <th>Missing_Values</th>\n",
       "    </tr>\n",
       "  </thead>\n",
       "  <tbody>\n",
       "    <tr>\n",
       "      <th>0</th>\n",
       "      <td>Company</td>\n",
       "      <td>0.229885</td>\n",
       "    </tr>\n",
       "    <tr>\n",
       "      <th>1</th>\n",
       "      <td>Company Score</td>\n",
       "      <td>9.310345</td>\n",
       "    </tr>\n",
       "    <tr>\n",
       "      <th>3</th>\n",
       "      <td>Location</td>\n",
       "      <td>1.494253</td>\n",
       "    </tr>\n",
       "    <tr>\n",
       "      <th>5</th>\n",
       "      <td>Salary</td>\n",
       "      <td>12.183908</td>\n",
       "    </tr>\n",
       "  </tbody>\n",
       "</table>\n",
       "</div>"
      ],
      "text/plain": [
       "     Column_Name  Missing_Values\n",
       "0        Company        0.229885\n",
       "1  Company Score        9.310345\n",
       "3       Location        1.494253\n",
       "5         Salary       12.183908"
      ]
     },
     "execution_count": 9,
     "metadata": {},
     "output_type": "execute_result"
    }
   ],
   "source": [
    "temp = pd.DataFrame(df.isnull().sum())\n",
    "temp.reset_index(inplace=True)\n",
    "temp.columns = ['Column_Name', 'Missing_Values']\n",
    "temp['Missing_Values'] = temp['Missing_Values']/ df.shape[0] * 100\n",
    "temp.query('Missing_Values > 0')"
   ]
  },
  {
   "cell_type": "markdown",
   "metadata": {},
   "source": [
    "**Now I replace the missing values with the mean of Company Score**"
   ]
  },
  {
   "cell_type": "code",
   "execution_count": 10,
   "metadata": {},
   "outputs": [
    {
     "name": "stderr",
     "output_type": "stream",
     "text": [
      "/tmp/ipykernel_71423/827626647.py:1: FutureWarning: A value is trying to be set on a copy of a DataFrame or Series through chained assignment using an inplace method.\n",
      "The behavior will change in pandas 3.0. This inplace method will never work because the intermediate object on which we are setting values always behaves as a copy.\n",
      "\n",
      "For example, when doing 'df[col].method(value, inplace=True)', try using 'df.method({col: value}, inplace=True)' or df[col] = df[col].method(value) instead, to perform the operation inplace on the original object.\n",
      "\n",
      "\n",
      "  df['Company Score'].fillna(df['Company Score'].mean(), inplace=True)\n"
     ]
    },
    {
     "data": {
      "text/plain": [
       "Company            2\n",
       "Company Score      0\n",
       "Job Title          0\n",
       "Location          13\n",
       "Date               0\n",
       "Salary           106\n",
       "dtype: int64"
      ]
     },
     "execution_count": 10,
     "metadata": {},
     "output_type": "execute_result"
    }
   ],
   "source": [
    "df['Company Score'].fillna(df['Company Score'].mean(), inplace=True)\n",
    "df.isnull().sum()"
   ]
  },
  {
   "cell_type": "markdown",
   "metadata": {},
   "source": [
    "**Now I see that Salary has the most missing values left**"
   ]
  },
  {
   "cell_type": "code",
   "execution_count": 11,
   "metadata": {},
   "outputs": [],
   "source": [
    "import re\n",
    "\n",
    "def extract_number(string):\n",
    "    \"\"\"Extracts the numeric part of a string.\"\"\"\n",
    "    return re.findall(r'\\d+', string)\n",
    "\n",
    "def scale_hourly_to_yearly(hourly_rate):\n",
    "    \"\"\"Scales an hourly rate to an annual salary based on 40 hours/week, 52 weeks/year.\"\"\"\n",
    "    return (hourly_rate * 40 * 52)/1000\n",
    "\n",
    "def split_salary(salary):\n",
    "    min_salary = 0\n",
    "    max_salary = 0\n",
    "    data_source = ''\n",
    "    \n",
    "    if 'hour' in salary.lower():\n",
    "        \n",
    "        hourly_rate = int(extract_number(salary)[0])\n",
    "        min_salary = scale_hourly_to_yearly(hourly_rate)\n",
    "        max_salary = min_salary\n",
    "        data_source = 'Hourly to Yearly conversion'\n",
    "    else:\n",
    "        \n",
    "        temp = salary.split('(')\n",
    "        if len(temp) == 2:\n",
    "            data_source = temp[1]\n",
    "            temp = temp[0].split('-')\n",
    "            if len(temp) == 2:\n",
    "                min_salary = int(extract_number(temp[0])[0])\n",
    "                max_salary = int(extract_number(temp[1])[0])\n",
    "    \n",
    "    return min_salary, max_salary, data_source\n",
    "\n",
    "\n",
    "df['Salary'] = df['Salary'].astype(str)\n",
    "df['Salary'] = df.apply(lambda x: split_salary(x.Salary), axis=1)\n"
   ]
  },
  {
   "cell_type": "markdown",
   "metadata": {},
   "source": [
    "**Here I extract the important information for computing the average salary, as well as taking care to convert the job listings that are in hourly to yearly to conform to the majority of the dataset** "
   ]
  },
  {
   "cell_type": "code",
   "execution_count": 12,
   "metadata": {},
   "outputs": [
    {
     "data": {
      "text/html": [
       "<div>\n",
       "<style scoped>\n",
       "    .dataframe tbody tr th:only-of-type {\n",
       "        vertical-align: middle;\n",
       "    }\n",
       "\n",
       "    .dataframe tbody tr th {\n",
       "        vertical-align: top;\n",
       "    }\n",
       "\n",
       "    .dataframe thead th {\n",
       "        text-align: right;\n",
       "    }\n",
       "</style>\n",
       "<table border=\"1\" class=\"dataframe\">\n",
       "  <thead>\n",
       "    <tr style=\"text-align: right;\">\n",
       "      <th></th>\n",
       "      <th>Company</th>\n",
       "      <th>Company Score</th>\n",
       "      <th>Job Title</th>\n",
       "      <th>Location</th>\n",
       "      <th>Date</th>\n",
       "      <th>Salary</th>\n",
       "    </tr>\n",
       "  </thead>\n",
       "  <tbody>\n",
       "    <tr>\n",
       "      <th>0</th>\n",
       "      <td>ViewSoft</td>\n",
       "      <td>4.8</td>\n",
       "      <td>Software Engineer</td>\n",
       "      <td>Manassas, VA</td>\n",
       "      <td>8d</td>\n",
       "      <td>(68, 94, Glassdoor est.))</td>\n",
       "    </tr>\n",
       "    <tr>\n",
       "      <th>1</th>\n",
       "      <td>Workiva</td>\n",
       "      <td>4.3</td>\n",
       "      <td>Software Support Engineer</td>\n",
       "      <td>Remote</td>\n",
       "      <td>2d</td>\n",
       "      <td>(61, 104, Employer est.))</td>\n",
       "    </tr>\n",
       "    <tr>\n",
       "      <th>2</th>\n",
       "      <td>Garmin International, Inc.</td>\n",
       "      <td>3.9</td>\n",
       "      <td>C# Software Engineer</td>\n",
       "      <td>Cary, NC</td>\n",
       "      <td>2d</td>\n",
       "      <td>(95, 118, Glassdoor est.))</td>\n",
       "    </tr>\n",
       "    <tr>\n",
       "      <th>3</th>\n",
       "      <td>Snapchat</td>\n",
       "      <td>3.5</td>\n",
       "      <td>Software Engineer, Fullstack, 1+ Years of Expe...</td>\n",
       "      <td>Los Angeles, CA</td>\n",
       "      <td>2d</td>\n",
       "      <td>(97, 145, Employer est.))</td>\n",
       "    </tr>\n",
       "    <tr>\n",
       "      <th>4</th>\n",
       "      <td>Vitesco Technologies Group AG</td>\n",
       "      <td>3.1</td>\n",
       "      <td>Software Engineer</td>\n",
       "      <td>Seguin, TX</td>\n",
       "      <td>2d</td>\n",
       "      <td>(85, 108, Glassdoor est.))</td>\n",
       "    </tr>\n",
       "  </tbody>\n",
       "</table>\n",
       "</div>"
      ],
      "text/plain": [
       "                         Company  Company Score  \\\n",
       "0                       ViewSoft            4.8   \n",
       "1                        Workiva            4.3   \n",
       "2     Garmin International, Inc.            3.9   \n",
       "3                       Snapchat            3.5   \n",
       "4  Vitesco Technologies Group AG            3.1   \n",
       "\n",
       "                                           Job Title         Location Date  \\\n",
       "0                                  Software Engineer     Manassas, VA   8d   \n",
       "1                          Software Support Engineer           Remote   2d   \n",
       "2                               C# Software Engineer         Cary, NC   2d   \n",
       "3  Software Engineer, Fullstack, 1+ Years of Expe...  Los Angeles, CA   2d   \n",
       "4                                  Software Engineer       Seguin, TX   2d   \n",
       "\n",
       "                       Salary  \n",
       "0   (68, 94, Glassdoor est.))  \n",
       "1   (61, 104, Employer est.))  \n",
       "2  (95, 118, Glassdoor est.))  \n",
       "3   (97, 145, Employer est.))  \n",
       "4  (85, 108, Glassdoor est.))  "
      ]
     },
     "execution_count": 12,
     "metadata": {},
     "output_type": "execute_result"
    }
   ],
   "source": [
    "df.head()"
   ]
  },
  {
   "cell_type": "markdown",
   "metadata": {},
   "source": [
    "**To make comparison easier, I added the high and low estimates and divided them to get an average of the range**"
   ]
  },
  {
   "cell_type": "code",
   "execution_count": 13,
   "metadata": {},
   "outputs": [
    {
     "data": {
      "text/html": [
       "<div>\n",
       "<style scoped>\n",
       "    .dataframe tbody tr th:only-of-type {\n",
       "        vertical-align: middle;\n",
       "    }\n",
       "\n",
       "    .dataframe tbody tr th {\n",
       "        vertical-align: top;\n",
       "    }\n",
       "\n",
       "    .dataframe thead th {\n",
       "        text-align: right;\n",
       "    }\n",
       "</style>\n",
       "<table border=\"1\" class=\"dataframe\">\n",
       "  <thead>\n",
       "    <tr style=\"text-align: right;\">\n",
       "      <th></th>\n",
       "      <th>Company</th>\n",
       "      <th>Company Score</th>\n",
       "      <th>Job Title</th>\n",
       "      <th>Location</th>\n",
       "      <th>Date</th>\n",
       "      <th>Salary</th>\n",
       "      <th>Average of Salary Range</th>\n",
       "    </tr>\n",
       "  </thead>\n",
       "  <tbody>\n",
       "    <tr>\n",
       "      <th>0</th>\n",
       "      <td>ViewSoft</td>\n",
       "      <td>4.8</td>\n",
       "      <td>Software Engineer</td>\n",
       "      <td>Manassas, VA</td>\n",
       "      <td>8d</td>\n",
       "      <td>(68, 94, Glassdoor est.))</td>\n",
       "      <td>81.0</td>\n",
       "    </tr>\n",
       "    <tr>\n",
       "      <th>1</th>\n",
       "      <td>Workiva</td>\n",
       "      <td>4.3</td>\n",
       "      <td>Software Support Engineer</td>\n",
       "      <td>Remote</td>\n",
       "      <td>2d</td>\n",
       "      <td>(61, 104, Employer est.))</td>\n",
       "      <td>82.5</td>\n",
       "    </tr>\n",
       "    <tr>\n",
       "      <th>2</th>\n",
       "      <td>Garmin International, Inc.</td>\n",
       "      <td>3.9</td>\n",
       "      <td>C# Software Engineer</td>\n",
       "      <td>Cary, NC</td>\n",
       "      <td>2d</td>\n",
       "      <td>(95, 118, Glassdoor est.))</td>\n",
       "      <td>106.5</td>\n",
       "    </tr>\n",
       "    <tr>\n",
       "      <th>3</th>\n",
       "      <td>Snapchat</td>\n",
       "      <td>3.5</td>\n",
       "      <td>Software Engineer, Fullstack, 1+ Years of Expe...</td>\n",
       "      <td>Los Angeles, CA</td>\n",
       "      <td>2d</td>\n",
       "      <td>(97, 145, Employer est.))</td>\n",
       "      <td>121.0</td>\n",
       "    </tr>\n",
       "    <tr>\n",
       "      <th>4</th>\n",
       "      <td>Vitesco Technologies Group AG</td>\n",
       "      <td>3.1</td>\n",
       "      <td>Software Engineer</td>\n",
       "      <td>Seguin, TX</td>\n",
       "      <td>2d</td>\n",
       "      <td>(85, 108, Glassdoor est.))</td>\n",
       "      <td>96.5</td>\n",
       "    </tr>\n",
       "  </tbody>\n",
       "</table>\n",
       "</div>"
      ],
      "text/plain": [
       "                         Company  Company Score  \\\n",
       "0                       ViewSoft            4.8   \n",
       "1                        Workiva            4.3   \n",
       "2     Garmin International, Inc.            3.9   \n",
       "3                       Snapchat            3.5   \n",
       "4  Vitesco Technologies Group AG            3.1   \n",
       "\n",
       "                                           Job Title         Location Date  \\\n",
       "0                                  Software Engineer     Manassas, VA   8d   \n",
       "1                          Software Support Engineer           Remote   2d   \n",
       "2                               C# Software Engineer         Cary, NC   2d   \n",
       "3  Software Engineer, Fullstack, 1+ Years of Expe...  Los Angeles, CA   2d   \n",
       "4                                  Software Engineer       Seguin, TX   2d   \n",
       "\n",
       "                       Salary  Average of Salary Range  \n",
       "0   (68, 94, Glassdoor est.))                     81.0  \n",
       "1   (61, 104, Employer est.))                     82.5  \n",
       "2  (95, 118, Glassdoor est.))                    106.5  \n",
       "3   (97, 145, Employer est.))                    121.0  \n",
       "4  (85, 108, Glassdoor est.))                     96.5  "
      ]
     },
     "execution_count": 13,
     "metadata": {},
     "output_type": "execute_result"
    }
   ],
   "source": [
    "def extract_and_average(salary):\n",
    "    salary = str(salary)\n",
    "    numbers = salary.split('(')[1].split(')')[0].split(', ')\n",
    "    num1, num2 = float(numbers[0]), float(numbers[1])\n",
    "    return (num1 +num2) /2\n",
    "\n",
    "df['Average of Salary Range'] = df['Salary'].apply(extract_and_average)\n",
    "df.head()"
   ]
  },
  {
   "cell_type": "markdown",
   "metadata": {},
   "source": [
    "**I noticed that some zero values were copied over from salary, so i replaced those with average values. I also did this with null values**"
   ]
  },
  {
   "cell_type": "code",
   "execution_count": 14,
   "metadata": {},
   "outputs": [
    {
     "name": "stderr",
     "output_type": "stream",
     "text": [
      "/tmp/ipykernel_71423/4150942881.py:1: FutureWarning: A value is trying to be set on a copy of a DataFrame or Series through chained assignment using an inplace method.\n",
      "The behavior will change in pandas 3.0. This inplace method will never work because the intermediate object on which we are setting values always behaves as a copy.\n",
      "\n",
      "For example, when doing 'df[col].method(value, inplace=True)', try using 'df.method({col: value}, inplace=True)' or df[col] = df[col].method(value) instead, to perform the operation inplace on the original object.\n",
      "\n",
      "\n",
      "  df['Average of Salary Range'].fillna(df['Average of Salary Range'].mean(), inplace=True)\n"
     ]
    }
   ],
   "source": [
    "df['Average of Salary Range'].fillna(df['Average of Salary Range'].mean(), inplace=True)\n",
    "df['Average of Salary Range'] = df['Average of Salary Range'].mask(df['Average of Salary Range'] == 0, df['Average of Salary Range'].mean())"
   ]
  },
  {
   "cell_type": "markdown",
   "metadata": {},
   "source": [
    "**I wanted to see what the dataframe looked like after a bit of data wrangling**"
   ]
  },
  {
   "cell_type": "code",
   "execution_count": 15,
   "metadata": {},
   "outputs": [
    {
     "data": {
      "text/html": [
       "<div>\n",
       "<style scoped>\n",
       "    .dataframe tbody tr th:only-of-type {\n",
       "        vertical-align: middle;\n",
       "    }\n",
       "\n",
       "    .dataframe tbody tr th {\n",
       "        vertical-align: top;\n",
       "    }\n",
       "\n",
       "    .dataframe thead th {\n",
       "        text-align: right;\n",
       "    }\n",
       "</style>\n",
       "<table border=\"1\" class=\"dataframe\">\n",
       "  <thead>\n",
       "    <tr style=\"text-align: right;\">\n",
       "      <th></th>\n",
       "      <th>Company</th>\n",
       "      <th>Company Score</th>\n",
       "      <th>Job Title</th>\n",
       "      <th>Location</th>\n",
       "      <th>Date</th>\n",
       "      <th>Salary</th>\n",
       "      <th>Average of Salary Range</th>\n",
       "    </tr>\n",
       "  </thead>\n",
       "  <tbody>\n",
       "    <tr>\n",
       "      <th>0</th>\n",
       "      <td>ViewSoft</td>\n",
       "      <td>4.8</td>\n",
       "      <td>Software Engineer</td>\n",
       "      <td>Manassas, VA</td>\n",
       "      <td>8d</td>\n",
       "      <td>(68, 94, Glassdoor est.))</td>\n",
       "      <td>81.0</td>\n",
       "    </tr>\n",
       "    <tr>\n",
       "      <th>1</th>\n",
       "      <td>Workiva</td>\n",
       "      <td>4.3</td>\n",
       "      <td>Software Support Engineer</td>\n",
       "      <td>Remote</td>\n",
       "      <td>2d</td>\n",
       "      <td>(61, 104, Employer est.))</td>\n",
       "      <td>82.5</td>\n",
       "    </tr>\n",
       "    <tr>\n",
       "      <th>2</th>\n",
       "      <td>Garmin International, Inc.</td>\n",
       "      <td>3.9</td>\n",
       "      <td>C# Software Engineer</td>\n",
       "      <td>Cary, NC</td>\n",
       "      <td>2d</td>\n",
       "      <td>(95, 118, Glassdoor est.))</td>\n",
       "      <td>106.5</td>\n",
       "    </tr>\n",
       "    <tr>\n",
       "      <th>3</th>\n",
       "      <td>Snapchat</td>\n",
       "      <td>3.5</td>\n",
       "      <td>Software Engineer, Fullstack, 1+ Years of Expe...</td>\n",
       "      <td>Los Angeles, CA</td>\n",
       "      <td>2d</td>\n",
       "      <td>(97, 145, Employer est.))</td>\n",
       "      <td>121.0</td>\n",
       "    </tr>\n",
       "    <tr>\n",
       "      <th>4</th>\n",
       "      <td>Vitesco Technologies Group AG</td>\n",
       "      <td>3.1</td>\n",
       "      <td>Software Engineer</td>\n",
       "      <td>Seguin, TX</td>\n",
       "      <td>2d</td>\n",
       "      <td>(85, 108, Glassdoor est.))</td>\n",
       "      <td>96.5</td>\n",
       "    </tr>\n",
       "  </tbody>\n",
       "</table>\n",
       "</div>"
      ],
      "text/plain": [
       "                         Company  Company Score  \\\n",
       "0                       ViewSoft            4.8   \n",
       "1                        Workiva            4.3   \n",
       "2     Garmin International, Inc.            3.9   \n",
       "3                       Snapchat            3.5   \n",
       "4  Vitesco Technologies Group AG            3.1   \n",
       "\n",
       "                                           Job Title         Location Date  \\\n",
       "0                                  Software Engineer     Manassas, VA   8d   \n",
       "1                          Software Support Engineer           Remote   2d   \n",
       "2                               C# Software Engineer         Cary, NC   2d   \n",
       "3  Software Engineer, Fullstack, 1+ Years of Expe...  Los Angeles, CA   2d   \n",
       "4                                  Software Engineer       Seguin, TX   2d   \n",
       "\n",
       "                       Salary  Average of Salary Range  \n",
       "0   (68, 94, Glassdoor est.))                     81.0  \n",
       "1   (61, 104, Employer est.))                     82.5  \n",
       "2  (95, 118, Glassdoor est.))                    106.5  \n",
       "3   (97, 145, Employer est.))                    121.0  \n",
       "4  (85, 108, Glassdoor est.))                     96.5  "
      ]
     },
     "execution_count": 15,
     "metadata": {},
     "output_type": "execute_result"
    }
   ],
   "source": [
    "df.head()"
   ]
  },
  {
   "cell_type": "markdown",
   "metadata": {},
   "source": [
    "**I wanted to remind myself what null values remained**"
   ]
  },
  {
   "cell_type": "code",
   "execution_count": 16,
   "metadata": {},
   "outputs": [
    {
     "data": {
      "text/plain": [
       "Company                     2\n",
       "Company Score               0\n",
       "Job Title                   0\n",
       "Location                   13\n",
       "Date                        0\n",
       "Salary                      0\n",
       "Average of Salary Range     0\n",
       "dtype: int64"
      ]
     },
     "execution_count": 16,
     "metadata": {},
     "output_type": "execute_result"
    }
   ],
   "source": [
    "df.isnull().sum()"
   ]
  },
  {
   "cell_type": "markdown",
   "metadata": {},
   "source": [
    "**Finally, I dropped the null company and location entries**"
   ]
  },
  {
   "cell_type": "code",
   "execution_count": 17,
   "metadata": {},
   "outputs": [],
   "source": [
    "df.dropna(subset=['Location'], inplace=True)\n",
    "df.dropna(subset=['Company'], inplace=True)"
   ]
  },
  {
   "cell_type": "code",
   "execution_count": 18,
   "metadata": {},
   "outputs": [
    {
     "data": {
      "text/plain": [
       "Company                    0\n",
       "Company Score              0\n",
       "Job Title                  0\n",
       "Location                   0\n",
       "Date                       0\n",
       "Salary                     0\n",
       "Average of Salary Range    0\n",
       "dtype: int64"
      ]
     },
     "execution_count": 18,
     "metadata": {},
     "output_type": "execute_result"
    }
   ],
   "source": [
    "df.isnull().sum()"
   ]
  },
  {
   "cell_type": "markdown",
   "metadata": {},
   "source": [
    "### Cleaning Steps\n",
    "- I Identified missing values\n",
    "- I chose to remedy missing values by inserting the average for that column when it was possible to compute it, as this shouldn't have a dramatic affect on the descriptive statistics of the dataset. For qualitative variables such as Company and Location, I chose to drop it.\n",
    "- For Company Score, I was simply able to insert the mean into missing values without any additional information, as pandas already identified it as a float.\n",
    "- For salary it was slighly more complicated, as I had to convert the datatype to a string before performing string operations on it\n",
    "- I was then able to apply a lambda function to it to extract the useful information from it, such as the low number and the high number in the range, as well as where the estimate came from\n",
    "- If the salary was given in an hourly format, I converted it to yearly by multiplying by the average working hours, then dividing by 1000, as the standard salary numbers were in thousands\n",
    "- Finally, I wanted to normalize the data to make it easier to compare , so i created a column called _'Average of Salary Range'_, where i inserted the mean of the range given, but left the original salary column untouched to preserve information about where the estimate came from"
   ]
  },
  {
   "cell_type": "markdown",
   "metadata": {},
   "source": [
    "## Step 3: Summary Statistics"
   ]
  },
  {
   "cell_type": "code",
   "execution_count": 19,
   "metadata": {},
   "outputs": [
    {
     "data": {
      "text/html": [
       "<div>\n",
       "<style scoped>\n",
       "    .dataframe tbody tr th:only-of-type {\n",
       "        vertical-align: middle;\n",
       "    }\n",
       "\n",
       "    .dataframe tbody tr th {\n",
       "        vertical-align: top;\n",
       "    }\n",
       "\n",
       "    .dataframe thead th {\n",
       "        text-align: right;\n",
       "    }\n",
       "</style>\n",
       "<table border=\"1\" class=\"dataframe\">\n",
       "  <thead>\n",
       "    <tr style=\"text-align: right;\">\n",
       "      <th></th>\n",
       "      <th>Company Score</th>\n",
       "      <th>Average of Salary Range</th>\n",
       "    </tr>\n",
       "  </thead>\n",
       "  <tbody>\n",
       "    <tr>\n",
       "      <th>count</th>\n",
       "      <td>855.000000</td>\n",
       "      <td>855.000000</td>\n",
       "    </tr>\n",
       "    <tr>\n",
       "      <th>mean</th>\n",
       "      <td>3.894894</td>\n",
       "      <td>126.865036</td>\n",
       "    </tr>\n",
       "    <tr>\n",
       "      <th>std</th>\n",
       "      <td>0.501052</td>\n",
       "      <td>43.805514</td>\n",
       "    </tr>\n",
       "    <tr>\n",
       "      <th>min</th>\n",
       "      <td>1.000000</td>\n",
       "      <td>6.500000</td>\n",
       "    </tr>\n",
       "    <tr>\n",
       "      <th>25%</th>\n",
       "      <td>3.600000</td>\n",
       "      <td>102.000000</td>\n",
       "    </tr>\n",
       "    <tr>\n",
       "      <th>50%</th>\n",
       "      <td>3.895311</td>\n",
       "      <td>111.500000</td>\n",
       "    </tr>\n",
       "    <tr>\n",
       "      <th>75%</th>\n",
       "      <td>4.100000</td>\n",
       "      <td>142.500000</td>\n",
       "    </tr>\n",
       "    <tr>\n",
       "      <th>max</th>\n",
       "      <td>5.000000</td>\n",
       "      <td>490.000000</td>\n",
       "    </tr>\n",
       "  </tbody>\n",
       "</table>\n",
       "</div>"
      ],
      "text/plain": [
       "       Company Score  Average of Salary Range\n",
       "count     855.000000               855.000000\n",
       "mean        3.894894               126.865036\n",
       "std         0.501052                43.805514\n",
       "min         1.000000                 6.500000\n",
       "25%         3.600000               102.000000\n",
       "50%         3.895311               111.500000\n",
       "75%         4.100000               142.500000\n",
       "max         5.000000               490.000000"
      ]
     },
     "execution_count": 19,
     "metadata": {},
     "output_type": "execute_result"
    }
   ],
   "source": [
    "variance_company_score = df['Company Score'].var()\n",
    "variance_average_of_salary_range = df['Average of Salary Range'].var()\n",
    "df.describe()\n"
   ]
  },
  {
   "cell_type": "code",
   "execution_count": 20,
   "metadata": {},
   "outputs": [
    {
     "name": "stdout",
     "output_type": "stream",
     "text": [
      "1918.9230282567976\n",
      "0.25105318838695223\n"
     ]
    }
   ],
   "source": [
    "print(variance_average_of_salary_range)\n",
    "print(variance_company_score)"
   ]
  },
  {
   "cell_type": "code",
   "execution_count": 21,
   "metadata": {},
   "outputs": [
    {
     "data": {
      "text/plain": [
       "Company                    640\n",
       "Company Score               31\n",
       "Job Title                  535\n",
       "Location                   329\n",
       "Date                        31\n",
       "Salary                     650\n",
       "Average of Salary Range    264\n",
       "dtype: int64"
      ]
     },
     "execution_count": 21,
     "metadata": {},
     "output_type": "execute_result"
    }
   ],
   "source": [
    "df.nunique()"
   ]
  },
  {
   "cell_type": "code",
   "execution_count": 22,
   "metadata": {},
   "outputs": [
    {
     "name": "stderr",
     "output_type": "stream",
     "text": [
      "/tmp/ipykernel_71423/1602332158.py:1: FutureWarning: The behavior of obj[i:j] with a float-dtype index is deprecated. In a future version, this will be treated as positional instead of label-based. For label-based slicing, use obj.loc[i:j] instead\n",
      "  df['Average of Salary Range'].value_counts()[:10].index.tolist()\n"
     ]
    },
    {
     "data": {
      "text/plain": [
       "[110.7212183908046,\n",
       " 99.5,\n",
       " 95.0,\n",
       " 135.0,\n",
       " 120.0,\n",
       " 130.0,\n",
       " 112.5,\n",
       " 115.5,\n",
       " 80.0,\n",
       " 106.0,\n",
       " 117.5,\n",
       " 106.5,\n",
       " 96.5,\n",
       " 102.5,\n",
       " 115.0,\n",
       " 107.5,\n",
       " 132.5,\n",
       " 108.0,\n",
       " 104.0,\n",
       " 125.0,\n",
       " 153.5,\n",
       " 121.0,\n",
       " 126.0,\n",
       " 100.0,\n",
       " 90.0,\n",
       " 167.5,\n",
       " 97.5,\n",
       " 114.0,\n",
       " 103.5,\n",
       " 122.5,\n",
       " 111.0,\n",
       " 133.0,\n",
       " 118.0,\n",
       " 176.5,\n",
       " 83.0,\n",
       " 145.0,\n",
       " 103.0,\n",
       " 107.0,\n",
       " 87.0,\n",
       " 160.0,\n",
       " 111.5,\n",
       " 188.0,\n",
       " 86.0,\n",
       " 91.5,\n",
       " 138.5,\n",
       " 147.5,\n",
       " 116.5,\n",
       " 98.5,\n",
       " 132.0,\n",
       " 102.0,\n",
       " 130.5,\n",
       " 105.5,\n",
       " 82.5,\n",
       " 168.0,\n",
       " 98.0,\n",
       " 101.5,\n",
       " 89.5,\n",
       " 137.5,\n",
       " 95.5,\n",
       " 125.5,\n",
       " 101.0,\n",
       " 123.5,\n",
       " 112.0,\n",
       " 94.0,\n",
       " 82.0,\n",
       " 88.5,\n",
       " 154.0,\n",
       " 150.0,\n",
       " 89.0,\n",
       " 94.5,\n",
       " 99.0,\n",
       " 91.0,\n",
       " 128.5,\n",
       " 200.0,\n",
       " 92.5,\n",
       " 108.5,\n",
       " 85.5,\n",
       " 129.5,\n",
       " 104.5,\n",
       " 167.0,\n",
       " 97.0,\n",
       " 86.5,\n",
       " 90.5,\n",
       " 124.0,\n",
       " 151.5,\n",
       " 127.0,\n",
       " 226.0,\n",
       " 105.0,\n",
       " 272.5,\n",
       " 181.5,\n",
       " 166.4,\n",
       " 190.0,\n",
       " 166.5,\n",
       " 139.5,\n",
       " 170.0,\n",
       " 110.5,\n",
       " 120.5,\n",
       " 138.0,\n",
       " 185.0,\n",
       " 83.2,\n",
       " 78.0,\n",
       " 119.0,\n",
       " 121.5,\n",
       " 144.0,\n",
       " 126.5,\n",
       " 162.0,\n",
       " 163.5,\n",
       " 134.5,\n",
       " 96.0,\n",
       " 179.0,\n",
       " 220.0,\n",
       " 124.8,\n",
       " 145.5,\n",
       " 195.5,\n",
       " 192.5,\n",
       " 165.0,\n",
       " 109.5,\n",
       " 149.0,\n",
       " 197.0,\n",
       " 77.5,\n",
       " 216.0,\n",
       " 161.5,\n",
       " 80.5,\n",
       " 162.5,\n",
       " 110.0,\n",
       " 133.5,\n",
       " 109.0,\n",
       " 83.5,\n",
       " 161.0,\n",
       " 212.5,\n",
       " 114.5,\n",
       " 92.0,\n",
       " 74.5,\n",
       " 87.5,\n",
       " 175.0,\n",
       " 142.5,\n",
       " 70.0,\n",
       " 217.5,\n",
       " 100.5,\n",
       " 147.0,\n",
       " 75.0,\n",
       " 122.0,\n",
       " 129.0,\n",
       " 140.0,\n",
       " 216.5,\n",
       " 127.5,\n",
       " 151.0,\n",
       " 205.0,\n",
       " 131.5,\n",
       " 192.0,\n",
       " 189.0,\n",
       " 85.0,\n",
       " 72.5,\n",
       " 140.5,\n",
       " 137.0,\n",
       " 153.0,\n",
       " 88.0,\n",
       " 213.0,\n",
       " 66.5,\n",
       " 113.0,\n",
       " 240.0,\n",
       " 172.0,\n",
       " 259.0,\n",
       " 81.0,\n",
       " 68.5,\n",
       " 81.5,\n",
       " 113.5,\n",
       " 93.0,\n",
       " 259.5,\n",
       " 117.0,\n",
       " 233.5,\n",
       " 255.0,\n",
       " 76.0,\n",
       " 165.5,\n",
       " 152.5,\n",
       " 178.0,\n",
       " 228.5,\n",
       " 144.5,\n",
       " 149.76,\n",
       " 202.0,\n",
       " 10.0]"
      ]
     },
     "execution_count": 22,
     "metadata": {},
     "output_type": "execute_result"
    }
   ],
   "source": [
    "df['Average of Salary Range'].value_counts()[:10].index.tolist()"
   ]
  },
  {
   "cell_type": "code",
   "execution_count": 23,
   "metadata": {},
   "outputs": [
    {
     "data": {
      "text/plain": [
       "0    4.1\n",
       "Name: Company Score, dtype: float64"
      ]
     },
     "execution_count": 23,
     "metadata": {},
     "output_type": "execute_result"
    }
   ],
   "source": [
    "df['Company Score'].mode()\n"
   ]
  },
  {
   "cell_type": "code",
   "execution_count": 24,
   "metadata": {},
   "outputs": [
    {
     "data": {
      "text/plain": [
       "111.5"
      ]
     },
     "execution_count": 24,
     "metadata": {},
     "output_type": "execute_result"
    }
   ],
   "source": [
    "df['Average of Salary Range'].median()"
   ]
  },
  {
   "cell_type": "code",
   "execution_count": 27,
   "metadata": {},
   "outputs": [
    {
     "data": {
      "text/plain": [
       "0    110.721218\n",
       "Name: Average of Salary Range, dtype: float64"
      ]
     },
     "execution_count": 27,
     "metadata": {},
     "output_type": "execute_result"
    }
   ],
   "source": [
    "df['Average of Salary Range'].mode()"
   ]
  },
  {
   "cell_type": "code",
   "execution_count": 25,
   "metadata": {},
   "outputs": [
    {
     "data": {
      "text/plain": [
       "3.895310519645121"
      ]
     },
     "execution_count": 25,
     "metadata": {},
     "output_type": "execute_result"
    }
   ],
   "source": [
    "df['Company Score'].median()"
   ]
  },
  {
   "cell_type": "markdown",
   "metadata": {},
   "source": [
    "### Insight\n",
    "\n",
    "| Statistic     | Company Score | Average of Salary Range |\n",
    "|---------------|---------------|-------------------------|\n",
    "| count         | 855.000000    | 855.000000              |\n",
    "| mean          | 3.894894      | 126.865036              |\n",
    "| std           | 0.501052      | 43.805514               |\n",
    "| min           | 1.000000      | 6.500000                |\n",
    "| 25%           | 3.600000      | 102.000000              |\n",
    "| 50%           | 3.895311      | 111.500000              |\n",
    "| 75%           | 4.100000      | 142.500000              |\n",
    "| max           | 5.000000      | 490.000000              |\n",
    "\n",
    "\n",
    "This revealed to me that the median for _company score_ was quite close to the mean. This was also the case for _Average of Salary Range_, indicating that this dataset is relatively symmetrical. This is further reinforced by the mode of _company score_, as it is only slightly higher than the median of 3.89 at 4.1\n",
    "\n",
    "**Mode**: _Company Score_ = 4.1\n",
    "\n",
    "**Mode**: _Average of Salary Range_ = 110.721218\n",
    "\n",
    "### Unique Value counts\n",
    "\n",
    "| Company                    | 640 |\n",
    "|----------------------------|-----|\n",
    "| Company Score               | 31  |\n",
    "| Job Title                  | 535 |\n",
    "| Location                   | 329 |\n",
    "| Date                        | 31  |\n",
    "| Salary                     | 650 |\n",
    "| Average of Salary Range    | 264 |\n",
    "\n",
    "This showed that the Salary listing and the Company Name tended to be the most unique, which makes since, because every company has a different name, and the salary column had a false level of uniqueness because of different conventions for salary listing, and the specification of where the estimate came from, which is why the uniqueness went down in the _Average of Salary Range_ column"
   ]
  },
  {
   "cell_type": "markdown",
   "metadata": {},
   "source": [
    "### Step 4: Identifying patterns and relationships\n"
   ]
  },
  {
   "cell_type": "code",
   "execution_count": 26,
   "metadata": {},
   "outputs": [
    {
     "data": {
      "text/html": [
       "<div>\n",
       "<style scoped>\n",
       "    .dataframe tbody tr th:only-of-type {\n",
       "        vertical-align: middle;\n",
       "    }\n",
       "\n",
       "    .dataframe tbody tr th {\n",
       "        vertical-align: top;\n",
       "    }\n",
       "\n",
       "    .dataframe thead th {\n",
       "        text-align: right;\n",
       "    }\n",
       "</style>\n",
       "<table border=\"1\" class=\"dataframe\">\n",
       "  <thead>\n",
       "    <tr style=\"text-align: right;\">\n",
       "      <th></th>\n",
       "      <th>Company Score</th>\n",
       "      <th>Average of Salary Range</th>\n",
       "    </tr>\n",
       "  </thead>\n",
       "  <tbody>\n",
       "    <tr>\n",
       "      <th>Company Score</th>\n",
       "      <td>1.000000</td>\n",
       "      <td>0.045178</td>\n",
       "    </tr>\n",
       "    <tr>\n",
       "      <th>Average of Salary Range</th>\n",
       "      <td>0.045178</td>\n",
       "      <td>1.000000</td>\n",
       "    </tr>\n",
       "  </tbody>\n",
       "</table>\n",
       "</div>"
      ],
      "text/plain": [
       "                         Company Score  Average of Salary Range\n",
       "Company Score                 1.000000                 0.045178\n",
       "Average of Salary Range       0.045178                 1.000000"
      ]
     },
     "execution_count": 26,
     "metadata": {},
     "output_type": "execute_result"
    }
   ],
   "source": [
    "df.corr(method= 'pearson',numeric_only=True)\n"
   ]
  },
  {
   "cell_type": "markdown",
   "metadata": {},
   "source": [
    "### Explanation\n",
    "This correlation matrix tells me that there is only a very weak positive correlation between the company score and the Salary that the company is offering in their job listing."
   ]
  },
  {
   "cell_type": "markdown",
   "metadata": {},
   "source": [
    "## Step 5: Conclusions and Insights"
   ]
  },
  {
   "cell_type": "markdown",
   "metadata": {},
   "source": [
    "My Analysis highlighted a couple of interesting patterns/trends. The first finding that I found interesting is the grouping of company scores. 50% of all company scores were between *3.6* and *4.1* . Under the assumption that a 3/5 would be considered average, it seems most companies employing software engineers are between good and great, indicating a high degree of employee satisfaction in the Industry currently. Additionally, The Correlation Matrix shows that their is only a slight positive correlation between _Company Score_ and the _Average of Salary Range_. This surprised me, because I was under the assumption that the compensation level of a company played significant role in the level of satisfaction that people who have at their job. Lastly, and perhaps the most surprising to me, is that the most common location in the dataset was **Remote**. This was suprising to me, because I remember within the past year reading a lot of news articles talking about Return to Office mandates, as well the supposed _Death of Remote Work_"
   ]
  },
  {
   "cell_type": "markdown",
   "metadata": {},
   "source": []
  }
 ],
 "metadata": {
  "kernelspec": {
   "display_name": "Python 3",
   "language": "python",
   "name": "python3"
  },
  "language_info": {
   "codemirror_mode": {
    "name": "ipython",
    "version": 3
   },
   "file_extension": ".py",
   "mimetype": "text/x-python",
   "name": "python",
   "nbconvert_exporter": "python",
   "pygments_lexer": "ipython3",
   "version": "3.13.2"
  }
 },
 "nbformat": 4,
 "nbformat_minor": 2
}
